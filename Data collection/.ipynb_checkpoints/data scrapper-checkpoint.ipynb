{
 "cells": [
  {
   "cell_type": "code",
   "execution_count": null,
   "metadata": {},
   "outputs": [],
   "source": [
    "import pandas as pd\n",
    "import newspaper\n",
    "from newspaper import Article\n",
    "import os"
   ]
  },
  {
   "cell_type": "code",
   "execution_count": null,
   "metadata": {},
   "outputs": [],
   "source": [
    "df = pd.read_csv('news_aggregator.csv')\n",
    "\n",
    "df.head()"
   ]
  },
  {
   "cell_type": "code",
   "execution_count": null,
   "metadata": {},
   "outputs": [],
   "source": [
    "health = df.loc[df['CATEGORY'] == 'health']\n",
    "entertainment = df.loc[df['CATEGORY'] == 'entertainment']\n",
    "business = df.loc[df['CATEGORY'] == 'business']\n",
    "technology = df.loc[df['CATEGORY'] == 'technology']"
   ]
  },
  {
   "cell_type": "code",
   "execution_count": null,
   "metadata": {},
   "outputs": [],
   "source": [
    "def download_content_summary(URL):\n",
    "    try:\n",
    "        print(\"Downloading from..\",URL)\n",
    "        article = Article(URL)\n",
    "        article.download()\n",
    "        article.parse()\n",
    "        if(len(article.text) > 150 and len(article.text)<6000):\n",
    "            article.nlp()\n",
    "            return [article.text, article.summary]\n",
    "        else:\n",
    "            return []\n",
    "    except Exception:\n",
    "        return []"
   ]
  },
  {
   "cell_type": "code",
   "execution_count": null,
   "metadata": {},
   "outputs": [],
   "source": [
    "def run(df, l, h, name):\n",
    "    df = df.iloc[35000:40000:]\n",
    "    df['content and summary'] = df['URL'].apply(download_content_summary)\n",
    "    filename = name + '_' + str(l) + '_' + str(h) + '.pickle'\n",
    "    df.to_pickle(filename)"
   ]
  },
  {
   "cell_type": "code",
   "execution_count": 1,
   "metadata": {},
   "outputs": [],
   "source": [
    "# Run for every 5000 rows\n",
    "# Harshith 0 - 10,000\n",
    "# Sravya 10,000 - 20,000\n",
    "# Hetal 20,000 - 30,000\n",
    "# Meghna 30,000 - 40,000\n",
    "# Harshith 40,000 - 45,000"
   ]
  },
  {
   "cell_type": "code",
   "execution_count": null,
   "metadata": {},
   "outputs": [],
   "source": [
    "run(health, 0,5000, 'health')\n",
    "run(health, 5000,10000, 'health')"
   ]
  },
  {
   "cell_type": "code",
   "execution_count": null,
   "metadata": {},
   "outputs": [],
   "source": [
    "run(business, 0,5000, 'business')\n",
    "run(business, 5000,10000, 'business')"
   ]
  },
  {
   "cell_type": "code",
   "execution_count": null,
   "metadata": {},
   "outputs": [],
   "source": [
    "run(health, 0,5000, 'entertainment')\n",
    "run(health, 5000,10000, 'entertainment')"
   ]
  },
  {
   "cell_type": "code",
   "execution_count": null,
   "metadata": {},
   "outputs": [],
   "source": [
    "run(health, 0,5000, 'technology')\n",
    "run(health, 5000,10000, 'technology')"
   ]
  }
 ],
 "metadata": {
  "kernelspec": {
   "display_name": "Python 3",
   "language": "python",
   "name": "python3"
  },
  "language_info": {
   "codemirror_mode": {
    "name": "ipython",
    "version": 3
   },
   "file_extension": ".py",
   "mimetype": "text/x-python",
   "name": "python",
   "nbconvert_exporter": "python",
   "pygments_lexer": "ipython3",
   "version": "3.7.3"
  }
 },
 "nbformat": 4,
 "nbformat_minor": 2
}
