{
 "cells": [
  {
   "cell_type": "code",
   "execution_count": 8,
   "metadata": {},
   "outputs": [
    {
     "name": "stdout",
     "output_type": "stream",
     "text": [
      "business_0_5000.pickle\n",
      "business_15000_20000.pickle\n",
      "business_20000_25000.pickle\n",
      "business_35000_40000.pickle\n",
      "business_5000_10000.pickle\n",
      "entertainment_0_5000.pickle\n",
      "entertainment_15000_20000.pickle\n",
      "entertainment_20000_25000.pickle\n",
      "entertainment_35000_40000.pickle\n",
      "entertainment_5000_10000.pickle\n",
      "health_0_5000.pickle\n",
      "health_15000_20000.pickle\n",
      "health_20000_25000.pickle\n",
      "health_35000_40000.pickle\n",
      "health_5000_10000.pickle\n",
      "technology_0_5000.pickle\n",
      "technology_15000_20000.pickle\n",
      "technology_20000_25000.pickle\n",
      "technology_35000_40000.pickle\n",
      "technology_5000_10000.pickle\n"
     ]
    },
    {
     "data": {
      "text/plain": [
       "health           7835\n",
       "business         7611\n",
       "technology       7287\n",
       "entertainment    5785\n",
       "Name: CATEGORY, dtype: int64"
      ]
     },
     "execution_count": 8,
     "metadata": {},
     "output_type": "execute_result"
    }
   ],
   "source": [
    "import pickle\n",
    "import pandas as pd \n",
    "import os\n",
    "df = pd.DataFrame(columns=['URL', 'CATEGORY', 'content and summary'])\n",
    "#for files in os.listdir(\"C:/Users/Hetal/Documents/GitHub/Text-classification-and-summarization/Data collection/final_data\"):\n",
    "for file in os.listdir(\"C:/Users/Hetal/Documents/GitHub/Text-classification-and-summarization/Data_collection/final_data\"):\n",
    "    path = \"C:/Users/Hetal/Documents/GitHub/Text-classification-and-summarization/Data_collection/final_data/\"+file\n",
    "    print(file)\n",
    "    pickle_file = open(path,\"rb\")\n",
    "    data = pickle.load(pickle_file)\n",
    "    data.head()\n",
    "    df = pd.concat([df, data], ignore_index=True, sort = False).sort_index()\n",
    "    \n",
    "\n",
    "df[['CONTENT','SUMMARY']] = pd.DataFrame(df['content and summary'].values.tolist(), index= df.index)\n",
    "\n",
    "\n",
    "\n",
    "df = df.dropna(subset=['CONTENT','SUMMARY'])\n",
    "df=df.drop(['content and summary'],axis=1)\n",
    "df =df[(df['SUMMARY']!='') & (df['CONTENT']!='')]\n",
    "\n",
    "#df.to_csv('data.csv', index =True ,encoding=\"utf-8-sig\")\n",
    "df.CATEGORY.value_counts()"
   ]
  },
  {
   "cell_type": "code",
   "execution_count": null,
   "metadata": {},
   "outputs": [],
   "source": []
  }
 ],
 "metadata": {
  "kernelspec": {
   "display_name": "Python 3",
   "language": "python",
   "name": "python3"
  },
  "language_info": {
   "codemirror_mode": {
    "name": "ipython",
    "version": 3
   },
   "file_extension": ".py",
   "mimetype": "text/x-python",
   "name": "python",
   "nbconvert_exporter": "python",
   "pygments_lexer": "ipython3",
   "version": "3.7.3"
  }
 },
 "nbformat": 4,
 "nbformat_minor": 2
}
