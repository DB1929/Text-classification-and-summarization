{
 "cells": [
  {
   "cell_type": "code",
   "execution_count": 3,
   "metadata": {},
   "outputs": [],
   "source": [
    "import os\n",
    "import pandas as pd\n",
    "import numpy as np\n",
    "import nltk\n",
    "from sklearn.feature_extraction.text import CountVectorizer, TfidfVectorizer\n",
    "from sklearn import preprocessing \n",
    "from sklearn.model_selection import train_test_split\n",
    "from sklearn.naive_bayes import MultinomialNB\n",
    "from sklearn import metrics"
   ]
  },
  {
   "cell_type": "code",
   "execution_count": 6,
   "metadata": {},
   "outputs": [],
   "source": [
    "#getting the dataset\n",
    "\n",
    "os.chdir('Your default directory where you have the unzipped bbc folder')\n",
    "type = []\n",
    "news = []\n",
    "\n",
    "for folder in os.listdir():\n",
    "    text_files = os.listdir(folder)\n",
    "    for file in text_files:\n",
    "        filepath = folder+'/'+file\n",
    "        data = open(filepath,\"r\")\n",
    "        news.append(data.read())\n",
    "        type.append(folder)\n",
    "\n",
    "combined_data = {'category': type, 'news': news}\n",
    "\n",
    "dataset = pd.DataFrame(combined_data)\n",
    "dataset.to_csv('../dataset.csv', index=False )"
   ]
  },
  {
   "cell_type": "code",
   "execution_count": 9,
   "metadata": {},
   "outputs": [
    {
     "name": "stdout",
     "output_type": "stream",
     "text": [
      "3    511\n",
      "0    510\n",
      "2    417\n",
      "4    401\n",
      "1    386\n",
      "Name: category, dtype: int64\n"
     ]
    }
   ],
   "source": [
    "#Encoding the target labels\n",
    "df = pd.read_csv(\"../dataset.csv\")\n",
    "\n",
    "label_encoder = preprocessing.LabelEncoder() \n",
    "  \n",
    "# Encode labels in column 'species'. \n",
    "df['category']= label_encoder.fit_transform(df['category']) \n",
    "#df= df.drop(\"category\",axis =1)\n",
    "\n",
    "print(df['category'].value_counts())\n"
   ]
  },
  {
   "cell_type": "code",
   "execution_count": 10,
   "metadata": {},
   "outputs": [
    {
     "data": {
      "text/html": [
       "<div>\n",
       "<style scoped>\n",
       "    .dataframe tbody tr th:only-of-type {\n",
       "        vertical-align: middle;\n",
       "    }\n",
       "\n",
       "    .dataframe tbody tr th {\n",
       "        vertical-align: top;\n",
       "    }\n",
       "\n",
       "    .dataframe thead th {\n",
       "        text-align: right;\n",
       "    }\n",
       "</style>\n",
       "<table border=\"1\" class=\"dataframe\">\n",
       "  <thead>\n",
       "    <tr style=\"text-align: right;\">\n",
       "      <th></th>\n",
       "      <th>category</th>\n",
       "      <th>news</th>\n",
       "      <th>text_lemmatized</th>\n",
       "    </tr>\n",
       "  </thead>\n",
       "  <tbody>\n",
       "    <tr>\n",
       "      <td>0</td>\n",
       "      <td>0</td>\n",
       "      <td>Ad sales boost Time Warner profit\\n\\nQuarterly...</td>\n",
       "      <td>Ad sale boost Time Warner profit Quarterly pro...</td>\n",
       "    </tr>\n",
       "    <tr>\n",
       "      <td>1</td>\n",
       "      <td>0</td>\n",
       "      <td>Dollar gains on Greenspan speech\\n\\nThe dollar...</td>\n",
       "      <td>Dollar gain on Greenspan speech The dollar ha ...</td>\n",
       "    </tr>\n",
       "    <tr>\n",
       "      <td>2</td>\n",
       "      <td>0</td>\n",
       "      <td>Yukos unit buyer faces loan claim\\n\\nThe owner...</td>\n",
       "      <td>Yukos unit buyer face loan claim The owner of ...</td>\n",
       "    </tr>\n",
       "    <tr>\n",
       "      <td>3</td>\n",
       "      <td>0</td>\n",
       "      <td>High fuel prices hit BA's profits\\n\\nBritish A...</td>\n",
       "      <td>High fuel price hit BA 's profit British Airwa...</td>\n",
       "    </tr>\n",
       "    <tr>\n",
       "      <td>4</td>\n",
       "      <td>0</td>\n",
       "      <td>Pernod takeover talk lifts Domecq\\n\\nShares in...</td>\n",
       "      <td>Pernod takeover talk lift Domecq Shares in UK ...</td>\n",
       "    </tr>\n",
       "  </tbody>\n",
       "</table>\n",
       "</div>"
      ],
      "text/plain": [
       "   category                                               news  \\\n",
       "0         0  Ad sales boost Time Warner profit\\n\\nQuarterly...   \n",
       "1         0  Dollar gains on Greenspan speech\\n\\nThe dollar...   \n",
       "2         0  Yukos unit buyer faces loan claim\\n\\nThe owner...   \n",
       "3         0  High fuel prices hit BA's profits\\n\\nBritish A...   \n",
       "4         0  Pernod takeover talk lifts Domecq\\n\\nShares in...   \n",
       "\n",
       "                                     text_lemmatized  \n",
       "0  Ad sale boost Time Warner profit Quarterly pro...  \n",
       "1  Dollar gain on Greenspan speech The dollar ha ...  \n",
       "2  Yukos unit buyer face loan claim The owner of ...  \n",
       "3  High fuel price hit BA 's profit British Airwa...  \n",
       "4  Pernod takeover talk lift Domecq Shares in UK ...  "
      ]
     },
     "execution_count": 10,
     "metadata": {},
     "output_type": "execute_result"
    }
   ],
   "source": [
    "#lemmatization\n",
    "\n",
    "lemmatizer = nltk.stem.WordNetLemmatizer()\n",
    "\n",
    "def lemmatize_text(text):\n",
    "    lemmatized_tokens = [lemmatizer.lemmatize(w) for w in nltk.word_tokenize(text)]\n",
    "    lemmatized_text = ' '.join(lemmatized_tokens)\n",
    "    return lemmatized_text\n",
    "\n",
    "df[\"text_lemmatized\"] = df[\"news\"].apply(lemmatize_text)\n",
    "\n",
    "df.head()"
   ]
  },
  {
   "cell_type": "code",
   "execution_count": 11,
   "metadata": {
    "scrolled": true
   },
   "outputs": [
    {
     "data": {
      "text/html": [
       "<div>\n",
       "<style scoped>\n",
       "    .dataframe tbody tr th:only-of-type {\n",
       "        vertical-align: middle;\n",
       "    }\n",
       "\n",
       "    .dataframe tbody tr th {\n",
       "        vertical-align: top;\n",
       "    }\n",
       "\n",
       "    .dataframe thead th {\n",
       "        text-align: right;\n",
       "    }\n",
       "</style>\n",
       "<table border=\"1\" class=\"dataframe\">\n",
       "  <thead>\n",
       "    <tr style=\"text-align: right;\">\n",
       "      <th></th>\n",
       "      <th>category</th>\n",
       "      <th>news</th>\n",
       "      <th>text_lemmatized</th>\n",
       "      <th>filtered_text</th>\n",
       "    </tr>\n",
       "  </thead>\n",
       "  <tbody>\n",
       "    <tr>\n",
       "      <td>0</td>\n",
       "      <td>0</td>\n",
       "      <td>Ad sales boost Time Warner profit\\n\\nQuarterly...</td>\n",
       "      <td>Ad sale boost Time Warner profit Quarterly pro...</td>\n",
       "      <td>Ad sale boost Time Warner profit Quarterly pro...</td>\n",
       "    </tr>\n",
       "    <tr>\n",
       "      <td>1</td>\n",
       "      <td>0</td>\n",
       "      <td>Dollar gains on Greenspan speech\\n\\nThe dollar...</td>\n",
       "      <td>Dollar gain on Greenspan speech The dollar ha ...</td>\n",
       "      <td>Dollar gain Greenspan speech The dollar ha hit...</td>\n",
       "    </tr>\n",
       "    <tr>\n",
       "      <td>2</td>\n",
       "      <td>0</td>\n",
       "      <td>Yukos unit buyer faces loan claim\\n\\nThe owner...</td>\n",
       "      <td>Yukos unit buyer face loan claim The owner of ...</td>\n",
       "      <td>Yukos unit buyer face loan claim The owner emb...</td>\n",
       "    </tr>\n",
       "    <tr>\n",
       "      <td>3</td>\n",
       "      <td>0</td>\n",
       "      <td>High fuel prices hit BA's profits\\n\\nBritish A...</td>\n",
       "      <td>High fuel price hit BA 's profit British Airwa...</td>\n",
       "      <td>High fuel price hit BA 's profit British Airwa...</td>\n",
       "    </tr>\n",
       "    <tr>\n",
       "      <td>4</td>\n",
       "      <td>0</td>\n",
       "      <td>Pernod takeover talk lifts Domecq\\n\\nShares in...</td>\n",
       "      <td>Pernod takeover talk lift Domecq Shares in UK ...</td>\n",
       "      <td>Pernod takeover talk lift Domecq Shares UK dri...</td>\n",
       "    </tr>\n",
       "  </tbody>\n",
       "</table>\n",
       "</div>"
      ],
      "text/plain": [
       "   category                                               news  \\\n",
       "0         0  Ad sales boost Time Warner profit\\n\\nQuarterly...   \n",
       "1         0  Dollar gains on Greenspan speech\\n\\nThe dollar...   \n",
       "2         0  Yukos unit buyer faces loan claim\\n\\nThe owner...   \n",
       "3         0  High fuel prices hit BA's profits\\n\\nBritish A...   \n",
       "4         0  Pernod takeover talk lifts Domecq\\n\\nShares in...   \n",
       "\n",
       "                                     text_lemmatized  \\\n",
       "0  Ad sale boost Time Warner profit Quarterly pro...   \n",
       "1  Dollar gain on Greenspan speech The dollar ha ...   \n",
       "2  Yukos unit buyer face loan claim The owner of ...   \n",
       "3  High fuel price hit BA 's profit British Airwa...   \n",
       "4  Pernod takeover talk lift Domecq Shares in UK ...   \n",
       "\n",
       "                                       filtered_text  \n",
       "0  Ad sale boost Time Warner profit Quarterly pro...  \n",
       "1  Dollar gain Greenspan speech The dollar ha hit...  \n",
       "2  Yukos unit buyer face loan claim The owner emb...  \n",
       "3  High fuel price hit BA 's profit British Airwa...  \n",
       "4  Pernod takeover talk lift Domecq Shares UK dri...  "
      ]
     },
     "execution_count": 11,
     "metadata": {},
     "output_type": "execute_result"
    }
   ],
   "source": [
    "#Removing stop words\n",
    "stopword_list = nltk.corpus.stopwords.words('english')\n",
    "\n",
    "def remove_stopwords(text):\n",
    "    filtered_words = [word for word in nltk.word_tokenize(text) if word not in stopword_list]\n",
    "    filtered_text = ' '.join(filtered_words)    \n",
    "    return filtered_text\n",
    "\n",
    "df[\"filtered_text\"] = df[\"text_lemmatized\"].apply(remove_stopwords)\n",
    "\n",
    "df.head()"
   ]
  },
  {
   "cell_type": "code",
   "execution_count": 12,
   "metadata": {},
   "outputs": [],
   "source": [
    "training_set, test_set, training_labels, test_labels = train_test_split(df[\"filtered_text\"], df[\"category\"], test_size=0.3, random_state=10)\n"
   ]
  },
  {
   "cell_type": "code",
   "execution_count": 13,
   "metadata": {},
   "outputs": [],
   "source": [
    "#Bag of words\n",
    "vectorizer = CountVectorizer(min_df=2)\n",
    "bow_train_features = vectorizer.fit_transform(training_set)\n",
    "\n",
    "bow_test_features = vectorizer.transform(test_set)"
   ]
  },
  {
   "cell_type": "code",
   "execution_count": 14,
   "metadata": {},
   "outputs": [
    {
     "name": "stdout",
     "output_type": "stream",
     "text": [
      "Bag of words accuracy  0.9805389221556886\n"
     ]
    }
   ],
   "source": [
    "mnb = MultinomialNB()\n",
    "mnb.fit(bow_train_features,training_labels)\n",
    "\n",
    "predictions = mnb.predict(bow_test_features)\n",
    "\n",
    "score = mnb.score(bow_test_features, test_labels)\n",
    "print(\"Bag of words accuracy \",score)"
   ]
  },
  {
   "cell_type": "code",
   "execution_count": 15,
   "metadata": {},
   "outputs": [],
   "source": [
    "#Tfidf \n",
    "tfidvectorizer = TfidfVectorizer(min_df=6, \n",
    "                                 norm='l2',\n",
    "                                 smooth_idf=True,\n",
    "                                 use_idf=True)\n",
    "tfid_train_features = tfidvectorizer.fit_transform(training_set)\n",
    "\n",
    "tfid_test_features = tfidvectorizer.transform(test_set)"
   ]
  },
  {
   "cell_type": "code",
   "execution_count": 16,
   "metadata": {},
   "outputs": [
    {
     "name": "stdout",
     "output_type": "stream",
     "text": [
      "Tfidf accuracy  0.9745508982035929\n"
     ]
    }
   ],
   "source": [
    "mnb = MultinomialNB()\n",
    "\n",
    "mnb.fit(tfid_train_features,training_labels)\n",
    "\n",
    "predictions = mnb.predict(tfid_test_features)\n",
    "\n",
    "score = mnb.score(tfid_test_features, test_labels)\n",
    "print(\"Tfidf accuracy \",score)"
   ]
  }
 ],
 "metadata": {
  "kernelspec": {
   "display_name": "Python 3",
   "language": "python",
   "name": "python3"
  },
  "language_info": {
   "codemirror_mode": {
    "name": "ipython",
    "version": 3
   },
   "file_extension": ".py",
   "mimetype": "text/x-python",
   "name": "python",
   "nbconvert_exporter": "python",
   "pygments_lexer": "ipython3",
   "version": "3.7.3"
  }
 },
 "nbformat": 4,
 "nbformat_minor": 2
}
